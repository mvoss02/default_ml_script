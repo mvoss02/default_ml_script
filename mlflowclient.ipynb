{
 "cells": [
  {
   "cell_type": "markdown",
   "metadata": {},
   "source": [
    "# Testing out MLflowClient"
   ]
  },
  {
   "cell_type": "code",
   "execution_count": 22,
   "metadata": {},
   "outputs": [],
   "source": [
    "# Import libraries\n",
    "from mlflow import MlflowClient\n",
    "from mlflow.entities import ViewType\n",
    "import mlflow"
   ]
  },
  {
   "cell_type": "code",
   "execution_count": 8,
   "metadata": {},
   "outputs": [],
   "source": [
    "MLFLOW_TRAKCING_URI = 'sqlite:///mlflow.db'"
   ]
  },
  {
   "cell_type": "code",
   "execution_count": 9,
   "metadata": {},
   "outputs": [],
   "source": [
    "client = MlflowClient(tracking_uri=MLFLOW_TRAKCING_URI)"
   ]
  },
  {
   "cell_type": "code",
   "execution_count": 11,
   "metadata": {},
   "outputs": [
    {
     "data": {
      "text/plain": [
       "[<Experiment: artifact_location='/home/mvoss/default_modeling_script/mlruns/1', creation_time=1715758132787, experiment_id='1', last_update_time=1715758132787, lifecycle_stage='active', name='ny_taxi_ride_duration', tags={}>,\n",
       " <Experiment: artifact_location='mlflow-artifacts:/0', creation_time=1715757256426, experiment_id='0', last_update_time=1715757256426, lifecycle_stage='active', name='Default', tags={}>]"
      ]
     },
     "execution_count": 11,
     "metadata": {},
     "output_type": "execute_result"
    }
   ],
   "source": [
    "# List experiemnts\n",
    "client.search_experiments()"
   ]
  },
  {
   "cell_type": "code",
   "execution_count": null,
   "metadata": {},
   "outputs": [],
   "source": [
    "# Create experiment\n",
    "client.create_experiment(name='ny_taxi_ride_duration')"
   ]
  },
  {
   "cell_type": "code",
   "execution_count": 20,
   "metadata": {},
   "outputs": [],
   "source": [
    "# Get the best runs\n",
    "runs = client.search_runs(\n",
    "    experiment_ids='1',\n",
    "    filter_string='',\n",
    "    run_view_type=ViewType.ACTIVE_ONLY,\n",
    "    max_results=5,\n",
    "    order_by=['metrics.RMSE ASC'],\n",
    ")"
   ]
  },
  {
   "cell_type": "code",
   "execution_count": 23,
   "metadata": {},
   "outputs": [
    {
     "name": "stdout",
     "output_type": "stream",
     "text": [
      "run_id: 35bff58b73d44aa0b94a84cfd7b281da, RMSE: 3.0221\n",
      "run_id: 44468fc20f2d4620b8e6fd64b7568256, RMSE: 3.0227\n",
      "run_id: d069760bbe9b47bd94185c6f29cccd72, RMSE: 3.0242\n",
      "run_id: dce48163618248ab99e901450e53ccf2, RMSE: 3.0250\n",
      "run_id: f8b27c549aad41b59a492536aec7f1e3, RMSE: 3.0276\n"
     ]
    }
   ],
   "source": [
    "best_runs = []\n",
    "\n",
    "for run in runs:\n",
    "    print(f'run_id: {run.info.run_id}, RMSE: {run.data.metrics[\"RMSE\"]:.4f}')\n",
    "    best_runs.append(run.info.run_id)"
   ]
  },
  {
   "cell_type": "markdown",
   "metadata": {},
   "source": [
    "## Register the best model"
   ]
  },
  {
   "cell_type": "code",
   "execution_count": 26,
   "metadata": {},
   "outputs": [
    {
     "data": {
      "text/plain": [
       "'35bff58b73d44aa0b94a84cfd7b281da'"
      ]
     },
     "execution_count": 26,
     "metadata": {},
     "output_type": "execute_result"
    }
   ],
   "source": [
    "best_runs[0]"
   ]
  },
  {
   "cell_type": "code",
   "execution_count": 24,
   "metadata": {},
   "outputs": [],
   "source": [
    "mlflow.set_tracking_uri(MLFLOW_TRAKCING_URI)"
   ]
  },
  {
   "cell_type": "code",
   "execution_count": 25,
   "metadata": {},
   "outputs": [
    {
     "name": "stderr",
     "output_type": "stream",
     "text": [
      "Registered model 'ny_taxi_model' already exists. Creating a new version of this model...\n",
      "Created version '2' of model 'ny_taxi_model'.\n"
     ]
    },
    {
     "data": {
      "text/plain": [
       "<ModelVersion: aliases=[], creation_timestamp=1715849245570, current_stage='None', description=None, last_updated_timestamp=1715849245570, name='ny_taxi_model', run_id='35bff58b73d44aa0b94a84cfd7b281da', run_link=None, source='/home/mvoss/default_modeling_script/mlruns/1/35bff58b73d44aa0b94a84cfd7b281da/artifacts/models', status='READY', status_message=None, tags={}, user_id=None, version=2>"
      ]
     },
     "execution_count": 25,
     "metadata": {},
     "output_type": "execute_result"
    }
   ],
   "source": [
    "mlflow.register_model(model_uri=f'runs:/{best_runs[0]}/models', name='ny_taxi_model',)"
   ]
  },
  {
   "cell_type": "code",
   "execution_count": 31,
   "metadata": {},
   "outputs": [
    {
     "name": "stdout",
     "output_type": "stream",
     "text": [
      "<RegisteredModel: aliases={}, creation_timestamp=1715847111510, description='', last_updated_timestamp=1715849245570, latest_versions=[<ModelVersion: aliases=[], creation_timestamp=1715849245570, current_stage='None', description=None, last_updated_timestamp=1715849245570, name='ny_taxi_model', run_id='35bff58b73d44aa0b94a84cfd7b281da', run_link=None, source='/home/mvoss/default_modeling_script/mlruns/1/35bff58b73d44aa0b94a84cfd7b281da/artifacts/models', status='READY', status_message=None, tags={}, user_id=None, version=2>], name='ny_taxi_model', tags={}>\n"
     ]
    }
   ],
   "source": [
    "registered_models = client.search_registered_models()\n",
    "\n",
    "for model in registered_models:\n",
    "    print(model)"
   ]
  },
  {
   "cell_type": "code",
   "execution_count": null,
   "metadata": {},
   "outputs": [],
   "source": []
  },
  {
   "cell_type": "code",
   "execution_count": null,
   "metadata": {},
   "outputs": [],
   "source": []
  }
 ],
 "metadata": {
  "kernelspec": {
   "display_name": "mlops",
   "language": "python",
   "name": "python3"
  },
  "language_info": {
   "codemirror_mode": {
    "name": "ipython",
    "version": 3
   },
   "file_extension": ".py",
   "mimetype": "text/x-python",
   "name": "python",
   "nbconvert_exporter": "python",
   "pygments_lexer": "ipython3",
   "version": "3.11.9"
  }
 },
 "nbformat": 4,
 "nbformat_minor": 2
}
